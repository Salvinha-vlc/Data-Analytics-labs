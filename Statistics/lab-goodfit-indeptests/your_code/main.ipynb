{
 "cells": [
  {
   "cell_type": "markdown",
   "metadata": {},
   "source": [
    "## Question 1\n",
    "The following table indicates the number of 6-point scores in an American rugby match in the 1979 season.\n",
    "\n",
    "![](table1.png)\n",
    "\n",
    "Based on these results, we create a Poisson distribution with the sample mean parameter  = 2.435. Is there any reason to believe that at a .05 level the number of scores is a Poisson variable?"
   ]
  },
  {
   "cell_type": "code",
   "execution_count": 1,
   "metadata": {},
   "outputs": [],
   "source": [
    "import pandas as pd\n",
    "import numpy as np\n",
    "import matplotlib.pyplot as plt\n",
    "%matplotlib inline \n",
    "from scipy import stats as ss\n",
    "from scipy.stats import poisson"
   ]
  },
  {
   "cell_type": "code",
   "execution_count": null,
   "metadata": {},
   "outputs": [],
   "source": [
    "# your answer here\n",
    "index = [i for i in range(8)]\n",
    "times = [35,99,104,110,62,25,10,3]\n",
    "scores = pd.DataFrame(times, index=scores, columns=[\"Numb_Times\"])\n"
   ]
  },
  {
   "cell_type": "code",
   "execution_count": null,
   "metadata": {},
   "outputs": [],
   "source": [
    "scores.head(3)"
   ]
  },
  {
   "cell_type": "code",
   "execution_count": null,
   "metadata": {},
   "outputs": [],
   "source": [
    "param = 2\n",
    "po = stats.poisson(param)\n",
    "print(po.pmf(param))     \n",
    "print(po.rvs(10))\n",
    "x = np.arange(0,8)\n",
    "fig, ax = plt.subplots(1, 1)\n",
    "ax.plot(x, poisson.pmf(x, param), 'bo', ms=8, label='poisson pmf')\n",
    "ax.vlines(x, 0, poisson.pmf(x, param), colors='b', lw=5, alpha=0.5)"
   ]
  },
  {
   "cell_type": "code",
   "execution_count": null,
   "metadata": {},
   "outputs": [],
   "source": [
    "touch_down_num = [i for i in range(8)]\n",
    "times = [35,99,104,110,62,25,10,3]\n",
    "weighted_avg_sum = 0\n",
    "\n",
    "for element in touch_down_num:\n",
    "    result = element*times[element]\n",
    "    weighted_avg_sum += weighted_avg_sum + result\n",
    "\n",
    "    \n",
    "\n",
    "\n",
    "    "
   ]
  },
  {
   "cell_type": "code",
   "execution_count": null,
   "metadata": {},
   "outputs": [],
   "source": [
    "poisson_prob =  stats.poisson.pmf(k=scores, mu=param)\n",
    "scores_df[\"poisson_probs\"] = poisson_prob\n",
    "sum_0_6 = sum(scores_df[\"poisson_probs\"][0:7])\n",
    "sum_0_6\n",
    "prob_7_more = 1 - sum_0_6\n",
    "prob_7_more\n",
    "scores_df[‘poisson_probs’][7] = prob_7_more\n",
    "scores_df[‘exp_value’] = scores_df[‘numb_times’].sum() * scores_df[‘poisson_probs’]\n",
    "scores_df[‘difference’] = (scores_df[‘numb_times’] - scores_df[‘exp_value’])**2\n",
    "chi2_score = sum(scores_df[‘difference’]/scores_df[‘exp_value’])\n",
    "chi2_score\n",
    "p=1\n",
    "dof = len(scores) -1 - p\n",
    "upper_bound_conf_int = stats.chi2.ppf(q=1-0.05, df=dof )\n",
    "upper_bound_conf_int\n",
    "confidence_interval = [0, upper_bound_conf_int]\n",
    "confidence_interval"
   ]
  },
  {
   "cell_type": "markdown",
   "metadata": {},
   "source": [
    "## Question 2\n",
    "The following are the ordered values of a random sample of SAT scores (university entrance exam) for several students: 852, 875, 910, 933, 957, 963, 981, 998, 1010, 1015, 1018, 1023, 1035, 1048, 1063. In previous years, the scores were presented by N (985,50). Based on the sample, is there any reason to believe that there has been a change in the distribution of scores this year? Use the level alpha = 0.05. "
   ]
  },
  {
   "cell_type": "markdown",
   "metadata": {},
   "source": [
    "H0. Current year's scores follow the same distribution than previous years\n",
    "H1. Current year's scores follow different distribution than previous years"
   ]
  },
  {
   "cell_type": "code",
   "execution_count": null,
   "metadata": {
    "scrolled": true
   },
   "outputs": [],
   "source": [
    "#your answer here\n",
    "current_year_sat = [852, 875, 910, 933, 957, 963, 981, 998, 1010, 1015, 1018, 1023, 1035, 1048, 1063]\n",
    "mu = 985\n",
    "sigma = 50\n",
    "last_years_sat = stats.norm.rvs(size = 15, loc=mu, scale=sigma)\n",
    "stats.ks_2samp(current_year_sat, last_years_sat)"
   ]
  },
  {
   "cell_type": "markdown",
   "metadata": {},
   "source": [
    "After comparing the distribution of our sample of scores (current year) with the one from previous years using a kolmorogov smirnoff test, we can say at a 95% confidence level, that there is not enough evidence to reject the null hypothesis, hence we assume that the SAT scores of current year follow a normal distribution with mean 985 and standard deviation 50. It is important to stress that using alpha = 0.05, we are going to commit an error upon rejecting the null hypothesis 5 times out 100."
   ]
  },
  {
   "cell_type": "markdown",
   "metadata": {},
   "source": [
    "## Question 3\n",
    "Let's analyze a discrete distribution. To analyze the number of defective items in a factory in the city of Medellín, we took a random sample of n = 60 articles and observed the number of defectives in the following table:\n",
    "\n",
    "![](table4.png)\n",
    "\n",
    "A poissón distribution was proposed since it is defined for x = 0,1,2,3, .... using the following model:\n",
    "\n",
    "![](image1.png)\n",
    "\n",
    "Does the distribution of defective items follow this distribution?"
   ]
  },
  {
   "cell_type": "code",
   "execution_count": 11,
   "metadata": {},
   "outputs": [],
   "source": [
    "# your code here\n",
    "defective_items = [0, 1, 2, 3, 4]\n",
    "observed_times = [32, 15, 0, 9, 4]\n",
    "defective_items_df = pd.DataFrame(zip(defective_items, observed_times))\n",
    "defective_items_df.columns = [\"defective_items\", \"observed_times\"]\n"
   ]
  },
  {
   "cell_type": "code",
   "execution_count": 13,
   "metadata": {},
   "outputs": [],
   "source": [
    "defective_items_df[\"total\"] = defective_items_df[\"defective_items\"] * defective_items_df[\"observed_times\"]"
   ]
  },
  {
   "cell_type": "code",
   "execution_count": 14,
   "metadata": {},
   "outputs": [],
   "source": [
    "defective_rate = defective_items_df[\"total\"].sum()/defective_items_df[\"observed_times\"].sum()"
   ]
  },
  {
   "cell_type": "code",
   "execution_count": 17,
   "metadata": {},
   "outputs": [],
   "source": [
    "defective_items_df[\"theoretical_prob\"] = ss.poisson.pmf(defective_items_df[\"defective_items\"], mu = defective_rate)"
   ]
  },
  {
   "cell_type": "code",
   "execution_count": 19,
   "metadata": {},
   "outputs": [],
   "source": [
    "defective_items_df[\"expected_times\"] = defective_items_df[\"theoretical_prob\"]*defective_items_df[\"observed_times\"].sum()"
   ]
  },
  {
   "cell_type": "code",
   "execution_count": 20,
   "metadata": {},
   "outputs": [
    {
     "data": {
      "text/html": [
       "<div>\n",
       "<style scoped>\n",
       "    .dataframe tbody tr th:only-of-type {\n",
       "        vertical-align: middle;\n",
       "    }\n",
       "\n",
       "    .dataframe tbody tr th {\n",
       "        vertical-align: top;\n",
       "    }\n",
       "\n",
       "    .dataframe thead th {\n",
       "        text-align: right;\n",
       "    }\n",
       "</style>\n",
       "<table border=\"1\" class=\"dataframe\">\n",
       "  <thead>\n",
       "    <tr style=\"text-align: right;\">\n",
       "      <th></th>\n",
       "      <th>defective_items</th>\n",
       "      <th>observed_times</th>\n",
       "      <th>total</th>\n",
       "      <th>theoretical_prob</th>\n",
       "      <th>expected_times</th>\n",
       "    </tr>\n",
       "  </thead>\n",
       "  <tbody>\n",
       "    <tr>\n",
       "      <th>0</th>\n",
       "      <td>0</td>\n",
       "      <td>32</td>\n",
       "      <td>0</td>\n",
       "      <td>0.380349</td>\n",
       "      <td>22.820925</td>\n",
       "    </tr>\n",
       "    <tr>\n",
       "      <th>1</th>\n",
       "      <td>1</td>\n",
       "      <td>15</td>\n",
       "      <td>15</td>\n",
       "      <td>0.367670</td>\n",
       "      <td>22.060228</td>\n",
       "    </tr>\n",
       "    <tr>\n",
       "      <th>2</th>\n",
       "      <td>2</td>\n",
       "      <td>0</td>\n",
       "      <td>0</td>\n",
       "      <td>0.177707</td>\n",
       "      <td>10.662443</td>\n",
       "    </tr>\n",
       "    <tr>\n",
       "      <th>3</th>\n",
       "      <td>3</td>\n",
       "      <td>9</td>\n",
       "      <td>27</td>\n",
       "      <td>0.057261</td>\n",
       "      <td>3.435676</td>\n",
       "    </tr>\n",
       "    <tr>\n",
       "      <th>4</th>\n",
       "      <td>4</td>\n",
       "      <td>4</td>\n",
       "      <td>16</td>\n",
       "      <td>0.013838</td>\n",
       "      <td>0.830288</td>\n",
       "    </tr>\n",
       "  </tbody>\n",
       "</table>\n",
       "</div>"
      ],
      "text/plain": [
       "   defective_items  observed_times  total  theoretical_prob  expected_times\n",
       "0                0              32      0          0.380349       22.820925\n",
       "1                1              15     15          0.367670       22.060228\n",
       "2                2               0      0          0.177707       10.662443\n",
       "3                3               9     27          0.057261        3.435676\n",
       "4                4               4     16          0.013838        0.830288"
      ]
     },
     "execution_count": 20,
     "metadata": {},
     "output_type": "execute_result"
    }
   ],
   "source": [
    "defective_items_df"
   ]
  },
  {
   "cell_type": "markdown",
   "metadata": {},
   "source": [
    "H0: Factory's deffective items follow Poisson distribution\n",
    "H1: Factory's deffective items do not follow Poisson distribution"
   ]
  },
  {
   "cell_type": "code",
   "execution_count": 22,
   "metadata": {},
   "outputs": [
    {
     "data": {
      "text/plain": [
       "Power_divergenceResult(statistic=37.72656768931596, pvalue=1.2759420913385983e-07)"
      ]
     },
     "execution_count": 22,
     "metadata": {},
     "output_type": "execute_result"
    }
   ],
   "source": [
    "ss.chisquare(defective_items_df[\"observed_times\"], defective_items_df[\"expected_times\"])"
   ]
  },
  {
   "cell_type": "markdown",
   "metadata": {},
   "source": [
    "Since p-value is lower than a predefined standard alpha of 5%, we have enough evidence to reject the null hypothesis, so we assume that the defective items are distributed following a Poisson."
   ]
  },
  {
   "cell_type": "markdown",
   "metadata": {},
   "source": [
    "## Question 4\n",
    "A researcher gathers information about the patterns of physical activity (AF) of children in the fifth grade of primary school of a public school. He defines three categories of physical activity (1 = Low, 2 = Medium, 3 = High). He also inquires about the regular consumption of sugary drinks at school, and defines two categories (1 = consumed, 0 = not consumed). We would like to evaluate if there is an association between patterns of physical activity and the consumption of sugary drinks for the children of this school, at a level of 5% significance. The results are in the following table: \n",
    "\n",
    "![](table5.png)"
   ]
  },
  {
   "cell_type": "code",
   "execution_count": 27,
   "metadata": {},
   "outputs": [
    {
     "data": {
      "text/html": [
       "<div>\n",
       "<style scoped>\n",
       "    .dataframe tbody tr th:only-of-type {\n",
       "        vertical-align: middle;\n",
       "    }\n",
       "\n",
       "    .dataframe tbody tr th {\n",
       "        vertical-align: top;\n",
       "    }\n",
       "\n",
       "    .dataframe thead th {\n",
       "        text-align: right;\n",
       "    }\n",
       "</style>\n",
       "<table border=\"1\" class=\"dataframe\">\n",
       "  <thead>\n",
       "    <tr style=\"text-align: right;\">\n",
       "      <th></th>\n",
       "      <th>yes</th>\n",
       "      <th>no</th>\n",
       "    </tr>\n",
       "  </thead>\n",
       "  <tbody>\n",
       "    <tr>\n",
       "      <th>low</th>\n",
       "      <td>32</td>\n",
       "      <td>12</td>\n",
       "    </tr>\n",
       "    <tr>\n",
       "      <th>medium</th>\n",
       "      <td>14</td>\n",
       "      <td>22</td>\n",
       "    </tr>\n",
       "    <tr>\n",
       "      <th>high</th>\n",
       "      <td>6</td>\n",
       "      <td>9</td>\n",
       "    </tr>\n",
       "  </tbody>\n",
       "</table>\n",
       "</div>"
      ],
      "text/plain": [
       "        yes  no\n",
       "low      32  12\n",
       "medium   14  22\n",
       "high      6   9"
      ]
     },
     "execution_count": 27,
     "metadata": {},
     "output_type": "execute_result"
    }
   ],
   "source": [
    "#your answer here\n",
    "df = pd.DataFrame({\"yes\": [32, 14, 6], \"no\": [12, 22, 9]})\n",
    "df = df.rename(index={0:\"low\", 1:\"medium\", 2:\"high\"})\n",
    "df"
   ]
  },
  {
   "cell_type": "code",
   "execution_count": 35,
   "metadata": {},
   "outputs": [
    {
     "data": {
      "text/plain": [
       "0.004719280137040844"
      ]
     },
     "execution_count": 35,
     "metadata": {},
     "output_type": "execute_result"
    }
   ],
   "source": [
    "ss.chi2_contingency(df)[1]"
   ]
  },
  {
   "cell_type": "markdown",
   "metadata": {},
   "source": [
    "HO. Both physical activity and sugary drinking habits are independent\n",
    "H1. Not independent\n",
    "\n",
    "Since the p-value of the chi square test performed above is lower than our predefined standard alpha, we can reject the H0 and assume that physical activity and sugary drinking habits are not independent."
   ]
  }
 ],
 "metadata": {
  "kernelspec": {
   "display_name": "Python 3",
   "language": "python",
   "name": "python3"
  },
  "language_info": {
   "codemirror_mode": {
    "name": "ipython",
    "version": 3
   },
   "file_extension": ".py",
   "mimetype": "text/x-python",
   "name": "python",
   "nbconvert_exporter": "python",
   "pygments_lexer": "ipython3",
   "version": "3.7.3"
  }
 },
 "nbformat": 4,
 "nbformat_minor": 2
}
