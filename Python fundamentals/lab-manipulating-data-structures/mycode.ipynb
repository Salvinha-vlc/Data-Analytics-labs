{
 "cells": [
  {
   "cell_type": "markdown",
   "metadata": {},
   "source": [
    "### Challenge 1"
   ]
  },
  {
   "cell_type": "code",
   "execution_count": 2,
   "metadata": {},
   "outputs": [],
   "source": [
    "integer_list = [1,2,3,4,1,2,4,5,2]\n",
    "value_list = [2,3]\n",
    "\n",
    "\n",
    "def remove(int_list, value_list):\n",
    "    return [i for i in int_list if i not in value_list]\n"
   ]
  },
  {
   "cell_type": "code",
   "execution_count": 3,
   "metadata": {},
   "outputs": [
    {
     "name": "stdout",
     "output_type": "stream",
     "text": [
      "[1, 4, 1, 4, 5]\n"
     ]
    }
   ],
   "source": [
    "result = remove(integer_list,value_list)\n",
    "print(result)"
   ]
  },
  {
   "cell_type": "markdown",
   "metadata": {},
   "source": [
    "### Challenge 2"
   ]
  },
  {
   "cell_type": "code",
   "execution_count": 4,
   "metadata": {},
   "outputs": [
    {
     "name": "stdout",
     "output_type": "stream",
     "text": [
      "[(2, 4), (3, 4)]\n"
     ]
    }
   ],
   "source": [
    "integers_list = [1,23,4,3,1,23,13,11,2,2]\n",
    "digits_list = [2,3]\n",
    "\n",
    "\n",
    "def count_spec_digits(integers_list,digits_list):\n",
    "    str_list = ''.join(map(str, integers_list))\n",
    "    tup = [(i, str_list.count(str(i))) for i in digits_list]\n",
    "    return tup\n",
    "\n",
    "\n",
    "result2 = count_spec_digits(integers_list,digits_list)\n",
    "print(result2)\n",
    "\n",
    "    "
   ]
  },
  {
   "cell_type": "markdown",
   "metadata": {},
   "source": [
    "### Challenge 3"
   ]
  },
  {
   "cell_type": "code",
   "execution_count": 9,
   "metadata": {},
   "outputs": [
    {
     "data": {
      "text/plain": [
       "defaultdict(int, {'a': 5, 'b': 2, 'r': 2, 'c': 1, 'd': 1})"
      ]
     },
     "execution_count": 9,
     "metadata": {},
     "output_type": "execute_result"
    }
   ],
   "source": [
    "from collections import defaultdict\n",
    "string = \"abracadabra\"\n",
    "default = defaultdict(int)\n",
    "for i in string:\n",
    "    default[i] += 1\n",
    "    \n",
    "default"
   ]
  }
 ],
 "metadata": {
  "kernelspec": {
   "display_name": "Python 3",
   "language": "python",
   "name": "python3"
  },
  "language_info": {
   "codemirror_mode": {
    "name": "ipython",
    "version": 3
   },
   "file_extension": ".py",
   "mimetype": "text/x-python",
   "name": "python",
   "nbconvert_exporter": "python",
   "pygments_lexer": "ipython3",
   "version": "3.7.3"
  }
 },
 "nbformat": 4,
 "nbformat_minor": 2
}
